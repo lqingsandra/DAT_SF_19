{
 "cells": [
  {
   "cell_type": "markdown",
   "metadata": {},
   "source": [
    "#Class 3 - Processing Files with Python\n",
    "###DATSF 19\n",
    "####Written by Justin Breucop & Rob Hall\n",
    "\n",
    "For a lot of data files in class we'll use functionality from various libraries to process data very quickly. However, for custom files, raw text, and data that is configured in a non-standard way, it is important to be able to extract data in a customized fashion. We'll go through this exercise using only libraries that come with the default python distribution. The first step will be to open the file in sublime.\n",
    "\n",
    "Let's say that we are curious about the latest release of ScikitLearn, since we are (or soon will be) frequent users. Our goal is to take the raw commits, sort our authors alphabetically and also count the number of contributions they made. Let's first look at the file. You can do this via the command line but for simplicity's sake we can use the Jupyter cell magic."
   ]
  },
  {
   "cell_type": "code",
   "execution_count": 5,
   "metadata": {
    "collapsed": false,
    "scrolled": true
   },
   "outputs": [],
   "source": [
    "# For Max/Linux users:\n",
    "# ! more ../data/raw_commits.txt\n",
    "\n",
    "# For windows users:\n",
    "# ! more ..\\data\\raw_commits.txt"
   ]
  },
  {
   "cell_type": "markdown",
   "metadata": {},
   "source": [
    "We see that each commit has an Author and a date. We need to be able to read the file line by line and add to a list of authors. Remember to use `with open('<filename>') as <variable>` where `<filename>` is the full path to the file and the `<variable>` is any identifier (such as `f`)."
   ]
  },
  {
   "cell_type": "code",
   "execution_count": 6,
   "metadata": {
    "collapsed": false
   },
   "outputs": [
    {
     "name": "stdout",
     "output_type": "stream",
     "text": [
      "1259\n",
      "177\n"
     ]
    }
   ],
   "source": [
    "auths = []\n",
    "with open('../data/raw_commits.txt') as f:\n",
    "    for i,line in enumerate(f):\n",
    "        if line[:6] == 'Author':\n",
    "            author = line[8:].split('<')[0]\n",
    "            if author[0] == '=':\n",
    "                pass\n",
    "            else:\n",
    "                auths.append(author)\n",
    "        else:\n",
    "            pass\n",
    "print len(auths)\n",
    "print len(set(auths))"
   ]
  },
  {
   "cell_type": "markdown",
   "metadata": {},
   "source": [
    "Sort the authors to find the first and last authors, alphabetically. Make sure your data is clean! (No username should begin with an = sign, for example)"
   ]
  },
  {
   "cell_type": "code",
   "execution_count": 13,
   "metadata": {
    "collapsed": false
   },
   "outputs": [
    {
     "name": "stdout",
     "output_type": "stream",
     "text": [
      "Aaron Schumacher \n",
      "Óscar Nájera \n"
     ]
    }
   ],
   "source": [
    "uniques = list(set(auths))\n",
    "uniques.sort()\n",
    "print uniques[0]\n",
    "print uniques[-1]"
   ]
  },
  {
   "cell_type": "markdown",
   "metadata": {},
   "source": [
    "For this example, Oscar Najera is at the end because the O is represented as `/xc3`. Handling unicodes can be tricky but with this example, finding Oscar is a sufficient anser. uniques[-2] gives our true alphabetical end."
   ]
  },
  {
   "cell_type": "code",
   "execution_count": 14,
   "metadata": {
    "collapsed": false
   },
   "outputs": [
    {
     "data": {
      "text/plain": [
       "'zhai_pro '"
      ]
     },
     "execution_count": 14,
     "metadata": {},
     "output_type": "execute_result"
    }
   ],
   "source": [
    "uniques[-2]"
   ]
  },
  {
   "cell_type": "markdown",
   "metadata": {},
   "source": [
    "To count out our data, we can loop over our list and construct a dictionary where the key is the commit author and the value increases whenever we match a key."
   ]
  },
  {
   "cell_type": "code",
   "execution_count": 16,
   "metadata": {
    "collapsed": true
   },
   "outputs": [],
   "source": [
    "counts = {}\n",
    "for auth in auths:\n",
    "    if auth in counts.keys():\n",
    "        counts[auth] += 1\n",
    "    else:\n",
    "        counts[auth] = 1"
   ]
  },
  {
   "cell_type": "markdown",
   "metadata": {},
   "source": [
    "Find the contributor with the highest number of commits"
   ]
  },
  {
   "cell_type": "code",
   "execution_count": 17,
   "metadata": {
    "collapsed": false
   },
   "outputs": [
    {
     "name": "stdout",
     "output_type": "stream",
     "text": [
      "Andreas Mueller \n"
     ]
    }
   ],
   "source": [
    "max_key = '' \n",
    "for key in counts.keys():\n",
    "    if counts[key] > counts.get(max_key):\n",
    "        max_key = key\n",
    "print max_key\n",
    "    "
   ]
  },
  {
   "cell_type": "markdown",
   "metadata": {},
   "source": [
    "Bonus: how do you handle a tie? Can you pull all authors with the lowest number of commits (without hardcoding the minimum)."
   ]
  },
  {
   "cell_type": "code",
   "execution_count": 23,
   "metadata": {
    "collapsed": false,
    "scrolled": true
   },
   "outputs": [
    {
     "name": "stdout",
     "output_type": "stream",
     "text": [
      "['Arnaud Rachez ', 'Eric Larson ', 'MaryanMorel ', 'JeanKossaifi ', 'Rob Zinkov ', 'Raghav ', 'Timothy Hopper ', 'Jiali Mei ', 'Dmitry Spikhalskiy ', 'John Kirkham ', 'Jungkook Park ', 'Tian Wang ', 'Eduardo Caro ', 'Tiago Freitas Pereira ', 'Anish Shah ', 'Jean Kossaifi ', 'Christopher Erick Moody ', 'Omer Katz ', 'sseg ', 'akitty ', 'Erich Schubert ', 'Jeffrey04 ', 'Sam Zhang ', 'Frank C. Eckert ', 'Christoph Gohlke ', 'Jaidev Deshpande ', 'Theodore Vasiloudis ', 'banilo ', 'Dougal Sutherland ', 'Yucheng Low ', 'Ali Baharev ', 'Masafumi Oyamada ', 'Kyler Brown ', 'Christof Angermueller ', 'Ishank Gulati ', 'santi ', 'Kashif Rasul ', 'Joseph ', 'Dan Blanchard ', 'Aaron Schumacher ', 'Nikolay Mayorov ', 'Eric Martin ', 'Robert Layton ', 'David ', 'Nicolas ', 'Rohan Ramanath ', 'Valentin Stolbunov ', 'KamalakerDadi ', 'saurabh.bansod ', 'Alexey Grigorev ', 'benjaminirving ', 'Tom Dupr\\xc3\\xa9 la Tour ', 'Pauli Virtanen ', 'Yury Zhauniarovich ', 'Tom DLT ', 'Konstantin Shmelkov ', 'Ando Saabas ', 'Vincent Michel ', 'Danny Sullivan ', 'Varoquaux ', 'Dougal J. Sutherland ', 'Ari Rouvinen ', 'Chih-Wei Chang ', 'Vincent ', 'edson duarte ', 'Zac Stewart ', 'Donne Martin ', 'Jeremy ', 'Preston Parry ', 'Clyde-fare ', 'Jake Vanderplas ', 'MartinBpr ', 'Brian McFee ', 'MarkTab marktab.net ', 'Giorgio Patrini ', 'Fernando Carrillo ', 'Allen Riddell ', 'Shivan Sornarajah ', 'Peter Fischer ', 'Ankur Ankan ', 'Keith Goodman ']\n",
      "\n",
      "All contributors made 1 contribution(s)\n"
     ]
    }
   ],
   "source": [
    "i = 0\n",
    "for key in counts.keys():\n",
    "    if i == 0:\n",
    "        key_list = [key]\n",
    "        i = 1\n",
    "    if counts.get(key_list[0]) > counts[key]:\n",
    "        key_list = [key]\n",
    "    elif counts.get(key_list[0]) == counts[key]:\n",
    "        key_list.append(key)\n",
    "print key_list\n",
    "print '\\nAll contributors made',counts[key_list[0]], 'contribution(s)'"
   ]
  }
 ],
 "metadata": {
  "kernelspec": {
   "display_name": "Python 2",
   "language": "python",
   "name": "python2"
  },
  "language_info": {
   "codemirror_mode": {
    "name": "ipython",
    "version": 2
   },
   "file_extension": ".py",
   "mimetype": "text/x-python",
   "name": "python",
   "nbconvert_exporter": "python",
   "pygments_lexer": "ipython2",
   "version": "2.7.11"
  }
 },
 "nbformat": 4,
 "nbformat_minor": 0
}
